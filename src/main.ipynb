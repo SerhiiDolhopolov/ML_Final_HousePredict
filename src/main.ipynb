{
 "cells": [
  {
   "cell_type": "code",
   "execution_count": 1,
   "id": "50a67482",
   "metadata": {},
   "outputs": [],
   "source": [
    "import pandas as pd\n",
    "\n",
    "from trainer import Trainer\n",
    "from split_data_type import SplitDataType\n",
    "from feature_transformer import TreeSimilarFeatureTransformar\n",
    "from estimator import ForestEstimator"
   ]
  },
  {
   "cell_type": "code",
   "execution_count": 2,
   "id": "20cb397e",
   "metadata": {},
   "outputs": [],
   "source": [
    "target_column = \"SalePrice\"\n",
    "\n",
    "train_df = pd.read_csv(\"../HousePrice_train.csv\")\n",
    "test_X = pd.read_csv(\"../HousePrice_test.csv\")\n",
    "test_y = pd.read_csv(\"../sample_submission.csv\")[target_column]"
   ]
  },
  {
   "cell_type": "code",
   "execution_count": 3,
   "id": "3a8a154e",
   "metadata": {},
   "outputs": [],
   "source": [
    "tree_features = TreeSimilarFeatureTransformar(train_df, SplitDataType.TRAIN, logging=True)"
   ]
  },
  {
   "cell_type": "code",
   "execution_count": 4,
   "id": "c5b84d62",
   "metadata": {},
   "outputs": [
    {
     "name": "stdout",
     "output_type": "stream",
     "text": [
      "----------------------------------------------------------------------------------------------------\n",
      "TRAIN: drop_not_needed\n",
      "Size = (1460, 80)\n",
      "Nulls columns = 19\n",
      "----------------------------------------------------------------------------------------------------\n"
     ]
    }
   ],
   "source": [
    "tree_features.drop_not_needed()"
   ]
  },
  {
   "cell_type": "code",
   "execution_count": 5,
   "id": "f59fa64f",
   "metadata": {},
   "outputs": [
    {
     "name": "stdout",
     "output_type": "stream",
     "text": [
      "----------------------------------------------------------------------------------------------------\n",
      "TRAIN: fill_null\n",
      "Size = (1460, 80)\n",
      "Nulls columns = 0\n",
      "----------------------------------------------------------------------------------------------------\n"
     ]
    }
   ],
   "source": [
    "tree_features.fill_null()"
   ]
  },
  {
   "cell_type": "code",
   "execution_count": 6,
   "id": "56dd7b78",
   "metadata": {},
   "outputs": [],
   "source": [
    "forest_estimator = ForestEstimator()"
   ]
  },
  {
   "cell_type": "code",
   "execution_count": 7,
   "id": "f497b63a",
   "metadata": {},
   "outputs": [],
   "source": [
    "train_df = train_df.select_dtypes(exclude=['object'])"
   ]
  },
  {
   "cell_type": "code",
   "execution_count": 8,
   "id": "62327f7a",
   "metadata": {},
   "outputs": [
    {
     "name": "stdout",
     "output_type": "stream",
     "text": [
      "0.9993150684931507\n"
     ]
    }
   ],
   "source": [
    "forest_estimator.fit(train_df.drop(columns=[target_column]), train_df[target_column])"
   ]
  }
 ],
 "metadata": {
  "kernelspec": {
   "display_name": ".venv",
   "language": "python",
   "name": "python3"
  },
  "language_info": {
   "codemirror_mode": {
    "name": "ipython",
    "version": 3
   },
   "file_extension": ".py",
   "mimetype": "text/x-python",
   "name": "python",
   "nbconvert_exporter": "python",
   "pygments_lexer": "ipython3",
   "version": "3.13.2"
  }
 },
 "nbformat": 4,
 "nbformat_minor": 5
}
